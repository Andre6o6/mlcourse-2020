{
  "nbformat": 4,
  "nbformat_minor": 0,
  "metadata": {
    "colab": {
      "name": "LunarLander(DQL).ipynb",
      "provenance": [],
      "collapsed_sections": [],
      "toc_visible": true,
      "authorship_tag": "ABX9TyNGJ4r/82Onvf0wKakU163h",
      "include_colab_link": true
    },
    "kernelspec": {
      "name": "python3",
      "display_name": "Python 3"
    },
    "accelerator": "GPU"
  },
  "cells": [
    {
      "cell_type": "markdown",
      "metadata": {
        "id": "view-in-github",
        "colab_type": "text"
      },
      "source": [
        "<a href=\"https://colab.research.google.com/github/Andre6o6/mlcourse-2020/blob/master/LunarLander(DQL).ipynb\" target=\"_parent\"><img src=\"https://colab.research.google.com/assets/colab-badge.svg\" alt=\"Open In Colab\"/></a>"
      ]
    },
    {
      "cell_type": "code",
      "metadata": {
        "id": "aNFG4EcAR59m",
        "colab_type": "code",
        "colab": {}
      },
      "source": [
        "!pip install gym pyvirtualdisplay > /dev/null 2>&1\n",
        "!apt-get install -y xvfb python-opengl ffmpeg > /dev/null 2>&1\n",
        "!pip install gym[all] > /dev/null 2>&1\n",
        "#Need to restart runtime after installing"
      ],
      "execution_count": 0,
      "outputs": []
    },
    {
      "cell_type": "code",
      "metadata": {
        "id": "2YyrFo2CR5_s",
        "colab_type": "code",
        "colab": {}
      },
      "source": [
        "import base64\n",
        "import glob\n",
        "import gym\n",
        "from gym.wrappers import Monitor\n",
        "import io\n",
        "import numpy as np\n",
        "import random\n",
        "from IPython.display import HTML\n",
        "from IPython import display as ipythondisplay"
      ],
      "execution_count": 0,
      "outputs": []
    },
    {
      "cell_type": "code",
      "metadata": {
        "id": "8lIhb5teR6CI",
        "colab_type": "code",
        "outputId": "2990e1d7-5447-4d3f-dddb-995461f5fd14",
        "colab": {
          "base_uri": "https://localhost:8080/",
          "height": 73
        }
      },
      "source": [
        "from pyvirtualdisplay import Display\n",
        "display = Display(visible=0, size=(1400, 900))\n",
        "display.start()"
      ],
      "execution_count": 2,
      "outputs": [
        {
          "output_type": "stream",
          "text": [
            "xdpyinfo was not found, X start can not be checked! Please install xdpyinfo!\n"
          ],
          "name": "stderr"
        },
        {
          "output_type": "execute_result",
          "data": {
            "text/plain": [
              "<Display cmd_param=['Xvfb', '-br', '-nolisten', 'tcp', '-screen', '0', '1400x900x24', ':1001'] cmd=['Xvfb', '-br', '-nolisten', 'tcp', '-screen', '0', '1400x900x24', ':1001'] oserror=None return_code=None stdout=\"None\" stderr=\"None\" timeout_happened=False>"
            ]
          },
          "metadata": {
            "tags": []
          },
          "execution_count": 2
        }
      ]
    },
    {
      "cell_type": "code",
      "metadata": {
        "id": "MIrkhUZPSRbv",
        "colab_type": "code",
        "colab": {}
      },
      "source": [
        "def show_video(path):\n",
        "    video = io.open(path, 'r+b').read()\n",
        "    encoded = base64.b64encode(video)\n",
        "    ipythondisplay.display(HTML(data='''<video alt=\"test\" autoplay \n",
        "                loop controls style=\"height: 400px;\">\n",
        "                <source src=\"data:video/mp4;base64,{0}\" type=\"video/mp4\" />\n",
        "             </video>'''.format(encoded.decode('ascii'))))\n",
        "\n",
        "def wrap_env(env):\n",
        "    return Monitor(env, 'video/', force=True)"
      ],
      "execution_count": 0,
      "outputs": []
    },
    {
      "cell_type": "code",
      "metadata": {
        "id": "EtelwuhkSrqB",
        "colab_type": "code",
        "outputId": "e05acd78-b093-4e37-ed1c-b3c4554ca4e6",
        "colab": {
          "base_uri": "https://localhost:8080/",
          "height": 53
        }
      },
      "source": [
        "env = wrap_env(gym.make(\"LunarLander-v2\"))\n",
        "observation = env.reset()"
      ],
      "execution_count": 4,
      "outputs": [
        {
          "output_type": "stream",
          "text": [
            "/usr/local/lib/python3.6/dist-packages/gym/logger.py:30: UserWarning: \u001b[33mWARN: Box bound precision lowered by casting to float32\u001b[0m\n",
            "  warnings.warn(colorize('%s: %s'%('WARN', msg % args), 'yellow'))\n"
          ],
          "name": "stderr"
        }
      ]
    },
    {
      "cell_type": "code",
      "metadata": {
        "id": "_x_8Jf89TI86",
        "colab_type": "code",
        "colab": {}
      },
      "source": [
        "for i in range(100):\n",
        "    env.render()\n",
        "\n",
        "    action = env.action_space.sample()\n",
        "    observation, reward, done, info = env.step(action)\n",
        "\n",
        "    if done:\n",
        "        break\n",
        "env.close()"
      ],
      "execution_count": 0,
      "outputs": []
    },
    {
      "cell_type": "code",
      "metadata": {
        "id": "wt1GO0YdTqLs",
        "colab_type": "code",
        "outputId": "8bfd4610-853b-498f-aead-cf3a5947a867",
        "colab": {
          "base_uri": "https://localhost:8080/",
          "height": 421
        }
      },
      "source": [
        "path = glob.glob(\"video/*.mp4\")[0]\n",
        "show_video(path)"
      ],
      "execution_count": 0,
      "outputs": [
        {
          "output_type": "display_data",
          "data": {
            "text/html": [
              "<video alt=\"test\" autoplay \n",
              "                loop controls style=\"height: 400px;\">\n",
              "                <source src=\"data:video/mp4;base64,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\" type=\"video/mp4\" />\n",
              "             </video>"
            ],
            "text/plain": [
              "<IPython.core.display.HTML object>"
            ]
          },
          "metadata": {
            "tags": []
          }
        }
      ]
    },
    {
      "cell_type": "code",
      "metadata": {
        "id": "jdOhuyO2wX7l",
        "colab_type": "code",
        "colab": {}
      },
      "source": [
        ""
      ],
      "execution_count": 0,
      "outputs": []
    },
    {
      "cell_type": "code",
      "metadata": {
        "colab_type": "code",
        "id": "X54aAhh6UBOc",
        "colab": {}
      },
      "source": [
        "import torch \n",
        "import torch.nn as nn\n",
        "import torch.nn.functional as F\n",
        "import torch.optim as optim"
      ],
      "execution_count": 0,
      "outputs": []
    },
    {
      "cell_type": "code",
      "metadata": {
        "colab_type": "code",
        "id": "eupRhhv_UA8P",
        "colab": {}
      },
      "source": [
        "class QNetwork(nn.Module):\n",
        "    def __init__(self, state_size, action_size):\n",
        "        super(QNetwork,self).__init__()\n",
        "        self.net = nn.Sequential(\n",
        "            nn.Linear(state_size,64),\n",
        "            nn.ReLU(),\n",
        "            nn.Linear(64,64),\n",
        "            nn.ReLU(),\n",
        "            nn.Linear(64,action_size)\n",
        "        )\n",
        "        \n",
        "    def forward(self,x):\n",
        "        return self.net(x)"
      ],
      "execution_count": 0,
      "outputs": []
    },
    {
      "cell_type": "code",
      "metadata": {
        "id": "Wph36U2JUs90",
        "colab_type": "code",
        "colab": {}
      },
      "source": [
        "from collections import deque\n",
        "\n",
        "class ReplayBuffer:\n",
        "    def __init__(self, buffer_size):\n",
        "      self.memory = deque(maxlen=buffer_size)\n",
        "\n",
        "    def add(self, state, action, reward, next_state):\n",
        "        self.memory.append((state, action, reward, next_state))\n",
        "\n",
        "    def sample(self, size):\n",
        "        experiences = random.sample(self.memory, k=size)\n",
        "\n",
        "        states = torch.from_numpy(np.vstack([e[0] for e in experiences])).float()\n",
        "        actions = torch.from_numpy(np.vstack([e[1] for e in experiences])).long()\n",
        "        rewards = torch.from_numpy(np.vstack([e[2] for e in experiences])).float()\n",
        "        next_states = torch.from_numpy(np.vstack([e[3] for e in experiences])).float()\n",
        "        return (states,actions,rewards,next_states)\n",
        "\n",
        "    def __len__(self):\n",
        "      return len(self.memory)"
      ],
      "execution_count": 0,
      "outputs": []
    },
    {
      "cell_type": "code",
      "metadata": {
        "id": "oemOeTdiYD98",
        "colab_type": "code",
        "colab": {}
      },
      "source": [
        "device = torch.device(\"cuda\" if torch.cuda.is_available() else \"cpu\")\n",
        "\n",
        "BUFFER_SIZE = 10000\n",
        "BATCH_SIZE = 64\n",
        "UPDATE_RATE = 4\n",
        "\n",
        "class Agent():\n",
        "    def __init__(self, state_size, action_size, gamma=0.99):\n",
        "        self.state_size = state_size\n",
        "        self.action_size = action_size\n",
        "        self.gamma = gamma    #discount factor\n",
        "\n",
        "        self.qnetwork_local = QNetwork(state_size, action_size).to(device)\n",
        "        self.qnetwork_target = QNetwork(state_size, action_size).to(device)\n",
        "\n",
        "        self.optimizer = optim.Adam(self.qnetwork_local.parameters(),lr=1e-3)\n",
        "        self.criterion = nn.MSELoss()\n",
        "\n",
        "        self.memory = ReplayBuffer(BUFFER_SIZE)\n",
        "        self.t = 0\n",
        "\n",
        "    def predict(self, state, eps=0.1):\n",
        "        if random.random() < eps:\n",
        "            return random.choice(np.arange(self.action_size))\n",
        "\n",
        "        state = torch.from_numpy(state).float().unsqueeze(0)\n",
        "        self.qnetwork_local.eval()\n",
        "        with torch.no_grad():\n",
        "            action_values = self.qnetwork_local(state.to(device))\n",
        "\n",
        "        return np.argmax(action_values.cpu().numpy())\n",
        "\n",
        "    def step(self, state, action, reward, next_step, done):\n",
        "        self.memory.add(state, action, reward, next_step)\n",
        "\n",
        "        self.t += 1\n",
        "        if self.t % UPDATE_RATE == 0:\n",
        "            if len(self.memory)>BATCH_SIZE:\n",
        "                experience = self.memory.sample(BATCH_SIZE)\n",
        "                self.learn(experience)\n",
        "                \n",
        "    def learn(self, experiences):\n",
        "        states, actions, rewards, next_state = experiences\n",
        "\n",
        "        self.optimizer.zero_grad()\n",
        "        self.qnetwork_local.train()\n",
        "        self.qnetwork_target.eval()\n",
        "\n",
        "        pred = self.qnetwork_local(states.to(device)).gather(1,actions.to(device))\n",
        "        with torch.no_grad():\n",
        "            labels_next = self.qnetwork_target(next_state.to(device)).max(1).values.unsqueeze(1)\n",
        "        labels = rewards.to(device) + (self.gamma*labels_next)\n",
        "\n",
        "        loss = self.criterion(pred,labels).to(device)\n",
        "        loss.backward()\n",
        "        self.optimizer.step()\n",
        "\n",
        "        self.update_target_network()\n",
        "\n",
        "    def update_target_network(self, tau=1e-3):\n",
        "        for target_param, local_param in zip(self.qnetwork_target.parameters(),\n",
        "                                             self.qnetwork_local.parameters()):\n",
        "            target_param.data.copy_(tau*local_param.data + (1-tau)*target_param.data)"
      ],
      "execution_count": 0,
      "outputs": []
    },
    {
      "cell_type": "code",
      "metadata": {
        "id": "4tBTaW3HJU6E",
        "colab_type": "code",
        "outputId": "087eff12-6b9e-4d30-c465-3b13c33be73f",
        "colab": {
          "base_uri": "https://localhost:8080/",
          "height": 53
        }
      },
      "source": [
        "env = gym.make(\"LunarLander-v2\")"
      ],
      "execution_count": 12,
      "outputs": [
        {
          "output_type": "stream",
          "text": [
            "/usr/local/lib/python3.6/dist-packages/gym/logger.py:30: UserWarning: \u001b[33mWARN: Box bound precision lowered by casting to float32\u001b[0m\n",
            "  warnings.warn(colorize('%s: %s'%('WARN', msg % args), 'yellow'))\n"
          ],
          "name": "stderr"
        }
      ]
    },
    {
      "cell_type": "code",
      "metadata": {
        "id": "1QlXHmNAaJv1",
        "colab_type": "code",
        "colab": {}
      },
      "source": [
        "observation = env.reset()\n",
        "agent = Agent(state_size=len(observation),action_size=env.action_space.n)"
      ],
      "execution_count": 0,
      "outputs": []
    },
    {
      "cell_type": "code",
      "metadata": {
        "id": "FH2KZLHxwnFm",
        "colab_type": "code",
        "outputId": "281339ce-a6a6-4643-b368-34189712f472",
        "colab": {
          "base_uri": "https://localhost:8080/",
          "height": 35
        }
      },
      "source": [
        "import tqdm\n",
        "\n",
        "n_episodes=2000\n",
        "max_t = 1000\n",
        "\n",
        "scores = []\n",
        "\n",
        "for ep in tqdm.trange(n_episodes):\n",
        "    state = env.reset()\n",
        "    score = 0\n",
        "    for t in range(max_t):\n",
        "        action = agent.predict(state)\n",
        "        next_state,reward,done,_ = env.step(action)\n",
        "        agent.step(state,action,reward,next_state,done)\n",
        "\n",
        "        state = next_state\n",
        "        score += reward\n",
        "        if done:\n",
        "            break\n",
        "        scores.append(score)"
      ],
      "execution_count": 18,
      "outputs": [
        {
          "output_type": "stream",
          "text": [
            "100%|██████████| 1000/1000 [09:26<00:00,  1.77it/s]\n"
          ],
          "name": "stderr"
        }
      ]
    },
    {
      "cell_type": "code",
      "metadata": {
        "id": "0BR7SlsA0U4W",
        "colab_type": "code",
        "outputId": "87470faa-50f7-4669-abe3-c095e1710d54",
        "colab": {
          "base_uri": "https://localhost:8080/",
          "height": 376
        }
      },
      "source": [
        "import matplotlib.pyplot as plt\n",
        "%pylab inline\n",
        "\n",
        "plt.plot(scores)"
      ],
      "execution_count": 19,
      "outputs": [
        {
          "output_type": "stream",
          "text": [
            "Populating the interactive namespace from numpy and matplotlib\n"
          ],
          "name": "stdout"
        },
        {
          "output_type": "stream",
          "text": [
            "/usr/local/lib/python3.6/dist-packages/IPython/core/magics/pylab.py:161: UserWarning: pylab import has clobbered these variables: ['random']\n",
            "`%matplotlib` prevents importing * from pylab and numpy\n",
            "  \"\\n`%matplotlib` prevents importing * from pylab and numpy\"\n"
          ],
          "name": "stderr"
        },
        {
          "output_type": "execute_result",
          "data": {
            "text/plain": [
              "[<matplotlib.lines.Line2D at 0x7f1731268208>]"
            ]
          },
          "metadata": {
            "tags": []
          },
          "execution_count": 19
        },
        {
          "output_type": "display_data",
          "data": {
            "image/png": "[encoded data removed]",
            "text/plain": [
              "<Figure size 432x288 with 1 Axes>"
            ]
          },
          "metadata": {
            "tags": []
          }
        }
      ]
    },
    {
      "cell_type": "code",
      "metadata": {
        "id": "00mUJzxP0wv0",
        "colab_type": "code",
        "colab": {}
      },
      "source": [
        ""
      ],
      "execution_count": 0,
      "outputs": []
    },
    {
      "cell_type": "code",
      "metadata": {
        "id": "XwYD3NMV0w18",
        "colab_type": "code",
        "outputId": "a7f5c525-2c9e-4d54-b9ea-d0e2e92cd261",
        "colab": {
          "base_uri": "https://localhost:8080/",
          "height": 72
        }
      },
      "source": [
        "env = wrap_env(gym.make(\"LunarLander-v2\"))\n",
        "state = env.reset()\n",
        "for i in range(1000):\n",
        "    env.render()\n",
        "    action = agent.predict(state)\n",
        "    state, reward, done, info = env.step(action)\n",
        "\n",
        "    if done:\n",
        "        print(reward)\n",
        "        break\n",
        "env.close()"
      ],
      "execution_count": 24,
      "outputs": [
        {
          "output_type": "stream",
          "text": [
            "/usr/local/lib/python3.6/dist-packages/gym/logger.py:30: UserWarning: \u001b[33mWARN: Box bound precision lowered by casting to float32\u001b[0m\n",
            "  warnings.warn(colorize('%s: %s'%('WARN', msg % args), 'yellow'))\n"
          ],
          "name": "stderr"
        },
        {
          "output_type": "stream",
          "text": [
            "100\n"
          ],
          "name": "stdout"
        }
      ]
    },
    {
      "cell_type": "code",
      "metadata": {
        "id": "r2vvaZap08Ay",
        "colab_type": "code",
        "outputId": "5cad9557-be6c-4953-9349-f174e73f9e11",
        "colab": {
          "base_uri": "https://localhost:8080/",
          "height": 421
        }
      },
      "source": [
        "path = glob.glob(\"video/*.mp4\")[0]\n",
        "show_video(path)"
      ],
      "execution_count": 25,
      "outputs": [
        {
          "output_type": "display_data",
          "data": {
            "text/html": [
              "<video alt=\"test\" autoplay \n",
              "                loop controls style=\"height: 400px;\">\n",
              "                <source src=\"data:video/mp4;base64,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\" type=\"video/mp4\" />\n",
              "             </video>"
            ],
            "text/plain": [
              "<IPython.core.display.HTML object>"
            ]
          },
          "metadata": {
            "tags": []
          }
        }
      ]
    }
  ]
}